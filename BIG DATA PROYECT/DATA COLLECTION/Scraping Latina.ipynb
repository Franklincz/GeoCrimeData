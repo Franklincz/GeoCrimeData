{
 "cells": [
  {
   "cell_type": "code",
   "execution_count": 0,
   "metadata": {
    "application/vnd.databricks.v1+cell": {
     "cellMetadata": {},
     "inputWidgets": {},
     "nuid": "076a27c8-1da2-4df3-83c4-319cb18bebd2",
     "showTitle": false,
     "title": ""
    }
   },
   "outputs": [],
   "source": [
    "from selenium import webdriver as wd\n",
    "from selenium.webdriver.support.ui import WebDriverWait\n",
    "from selenium.webdriver.common.by import By\n",
    "from time import sleep\n",
    "import time\n",
    "import keyboard\n",
    "import pyautogui as pa\n",
    "from selenium.webdriver.support import expected_conditions as EC\n",
    "import datetime \n",
    "import subprocess\n",
    "import re\n"
   ]
  },
  {
   "cell_type": "code",
   "execution_count": 0,
   "metadata": {
    "application/vnd.databricks.v1+cell": {
     "cellMetadata": {},
     "inputWidgets": {},
     "nuid": "3fb387de-ba7b-49ac-ae8a-5e9f78591dbb",
     "showTitle": false,
     "title": ""
    }
   },
   "outputs": [],
   "source": [
    "drive = wd.Chrome()\n",
    "drive.get(\"https://latinanoticias.pe/noticias\")"
   ]
  },
  {
   "cell_type": "code",
   "execution_count": 0,
   "metadata": {
    "application/vnd.databricks.v1+cell": {
     "cellMetadata": {},
     "inputWidgets": {},
     "nuid": "1a6680be-0917-4944-8a4e-59047ff34adb",
     "showTitle": false,
     "title": ""
    }
   },
   "outputs": [],
   "source": [
    "\n",
    "Titulos = []\n",
    "Detalle = []\n",
    "list = [2,3,4,5]\n",
    "for j in range(100):\n",
    "    drive.implicitly_wait(60)\n",
    "    time.sleep(2)\n",
    "    for i in range(5,31):\n",
    "        \n",
    "        b = drive.find_elements(\"xpath\",'/html/body/div[9]/section[2]/div/div['+str(i)+']')\n",
    "        text = ''\n",
    "        for b in b:\n",
    "            text += b.text\n",
    "        text = re.sub(r\"[^\\w\\s]\", \"\", text)\n",
    "        Titulos.append(text)\n",
    "    for x in range(5,31):\n",
    "        time.sleep(1)\n",
    "        drive.find_element(\"xpath\",'/html/body/div[9]/section[2]/div/div['+str(x)+']').click()\n",
    "        drive.implicitly_wait(60)\n",
    "        b = drive.find_elements(\"xpath\",'/html/body/div[9]/section/article/div/section/div/div[2]')\n",
    "        drive.implicitly_wait(60)\n",
    "        text = ''\n",
    "        for b in b:\n",
    "            text += b.text\n",
    "        text = re.sub(r\"[^\\w\\s]\", \"\", text)\n",
    "        Detalle.append(text.replace(\"\\n\", \"\"))\n",
    "        drive.implicitly_wait(60)\n",
    "        time.sleep(1)\n",
    "        drive.back()\n",
    "        time.sleep(1)\n",
    "        drive.implicitly_wait(60)\n",
    "    drive.find_element(\"xpath\",'/html/body/div[9]/div[1]/div/a['+str(list[j])+']').click()\n",
    "    time.sleep(2)\n",
    "    drive.implicitly_wait(60)\n",
    "    list.append(5)\n",
    "    \n",
    "nombre_archivo = \"Detalle.txt\"\n",
    "\n",
    "# Abrims el archivo en modo escritura\n",
    "with open(nombre_archivo, \"w\") as archivo:\n",
    "    # Escribe cada elemento de la lista en una línea separada\n",
    "    for elemento in Detalle:\n",
    "        archivo.write(elemento + \"\\n\"+ \"\\n\")\n",
    "\n",
    "nombre_archivo = \"Fecha y Titulo.txt\"\n",
    "\n",
    "# Abrims el archivo en modo escritura\n",
    "with open(nombre_archivo, \"w\") as archivo:\n",
    "    # Escribe cada elemento de la lista en una línea separada\n",
    "    for elemento in Titulos:\n",
    "        archivo.write(elemento + \"\\n\"+ \"\\n\")\n",
    "subprocess.call([\"shutdown\", \"/s\", \"/t\", \"0\"]) "
   ]
  },
  {
   "cell_type": "code",
   "execution_count": 0,
   "metadata": {
    "application/vnd.databricks.v1+cell": {
     "cellMetadata": {},
     "inputWidgets": {},
     "nuid": "c25344eb-ffd0-4432-b28c-7214c82b0149",
     "showTitle": false,
     "title": ""
    }
   },
   "outputs": [],
   "source": [
    "len(Detalle)\n",
    "len(Titulos)"
   ]
  },
  {
   "cell_type": "code",
   "execution_count": 0,
   "metadata": {
    "application/vnd.databricks.v1+cell": {
     "cellMetadata": {},
     "inputWidgets": {},
     "nuid": "1ee0ef88-7b3f-4708-8d00-12255406720c",
     "showTitle": false,
     "title": ""
    }
   },
   "outputs": [],
   "source": []
  }
 ],
 "metadata": {
  "application/vnd.databricks.v1+notebook": {
   "dashboards": [],
   "language": "python",
   "notebookMetadata": {
    "pythonIndentUnit": 4
   },
   "notebookName": "Scraping Latina",
   "widgets": {}
  },
  "kernelspec": {
   "display_name": "Python 3",
   "language": "python",
   "name": "python3"
  },
  "language_info": {
   "codemirror_mode": {
    "name": "ipython",
    "version": 3
   },
   "file_extension": ".py",
   "mimetype": "text/x-python",
   "name": "python",
   "nbconvert_exporter": "python",
   "pygments_lexer": "ipython3",
   "version": "3.11.4"
  },
  "orig_nbformat": 4
 },
 "nbformat": 4,
 "nbformat_minor": 0
}
